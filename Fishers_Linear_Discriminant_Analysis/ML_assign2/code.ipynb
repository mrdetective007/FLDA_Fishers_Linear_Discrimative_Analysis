{
 "cells": [
  {
   "cell_type": "code",
   "execution_count": 1,
   "metadata": {},
   "outputs": [],
   "source": [
    "from sklearn.metrics import confusion_matrix\n",
    "from sklearn.model_selection import train_test_split\n",
    "from sklearn.tree import DecisionTreeClassifier\n",
    "from sklearn.preprocessing import LabelEncoder\n",
    "import seaborn as sns\n",
    "from matplotlib import pyplot as plt\n",
    "import pandas as pd\n",
    "import numpy as np\n",
    "from sklearn.discriminant_analysis import LinearDiscriminantAnalysis as LDA\n",
    "np.set_printoptions(precision=4)\n",
    "sns.set()\n",
    "import math\n",
    "from random import Random\n",
    "import warnings\n",
    "warnings.filterwarnings('ignore')\n",
    "from scipy.stats import norm\n",
    "# make a random integer generator\n",
    "# random = Random()\n",
    "random1 = Random().randint(0, 100)"
   ]
  },
  {
   "cell_type": "code",
   "execution_count": 2,
   "metadata": {},
   "outputs": [
    {
     "data": {
      "text/html": [
       "<div>\n",
       "<style scoped>\n",
       "    .dataframe tbody tr th:only-of-type {\n",
       "        vertical-align: middle;\n",
       "    }\n",
       "\n",
       "    .dataframe tbody tr th {\n",
       "        vertical-align: top;\n",
       "    }\n",
       "\n",
       "    .dataframe thead th {\n",
       "        text-align: right;\n",
       "    }\n",
       "</style>\n",
       "<table border=\"1\" class=\"dataframe\">\n",
       "  <thead>\n",
       "    <tr style=\"text-align: right;\">\n",
       "      <th></th>\n",
       "      <th>id</th>\n",
       "      <th>diagnosis</th>\n",
       "      <th>radius_mean</th>\n",
       "      <th>texture_mean</th>\n",
       "      <th>perimeter_mean</th>\n",
       "      <th>area_mean</th>\n",
       "      <th>smoothness_mean</th>\n",
       "      <th>compactness_mean</th>\n",
       "      <th>concavity_mean</th>\n",
       "      <th>concave points_mean</th>\n",
       "      <th>...</th>\n",
       "      <th>radius_worst</th>\n",
       "      <th>texture_worst</th>\n",
       "      <th>perimeter_worst</th>\n",
       "      <th>area_worst</th>\n",
       "      <th>smoothness_worst</th>\n",
       "      <th>compactness_worst</th>\n",
       "      <th>concavity_worst</th>\n",
       "      <th>concave points_worst</th>\n",
       "      <th>symmetry_worst</th>\n",
       "      <th>fractal_dimension_worst</th>\n",
       "    </tr>\n",
       "  </thead>\n",
       "  <tbody>\n",
       "    <tr>\n",
       "      <th>0</th>\n",
       "      <td>842302</td>\n",
       "      <td>M</td>\n",
       "      <td>17.99</td>\n",
       "      <td>10.38</td>\n",
       "      <td>122.80</td>\n",
       "      <td>1001.0</td>\n",
       "      <td>0.11840</td>\n",
       "      <td>0.27760</td>\n",
       "      <td>0.3001</td>\n",
       "      <td>0.14710</td>\n",
       "      <td>...</td>\n",
       "      <td>25.38</td>\n",
       "      <td>17.33</td>\n",
       "      <td>184.60</td>\n",
       "      <td>2019.0</td>\n",
       "      <td>0.1622</td>\n",
       "      <td>0.6656</td>\n",
       "      <td>0.7119</td>\n",
       "      <td>0.2654</td>\n",
       "      <td>0.4601</td>\n",
       "      <td>0.11890</td>\n",
       "    </tr>\n",
       "    <tr>\n",
       "      <th>1</th>\n",
       "      <td>842517</td>\n",
       "      <td>M</td>\n",
       "      <td>20.57</td>\n",
       "      <td>17.77</td>\n",
       "      <td>132.90</td>\n",
       "      <td>1326.0</td>\n",
       "      <td>0.08474</td>\n",
       "      <td>0.07864</td>\n",
       "      <td>0.0869</td>\n",
       "      <td>0.07017</td>\n",
       "      <td>...</td>\n",
       "      <td>24.99</td>\n",
       "      <td>23.41</td>\n",
       "      <td>158.80</td>\n",
       "      <td>1956.0</td>\n",
       "      <td>0.1238</td>\n",
       "      <td>0.1866</td>\n",
       "      <td>0.2416</td>\n",
       "      <td>0.1860</td>\n",
       "      <td>0.2750</td>\n",
       "      <td>0.08902</td>\n",
       "    </tr>\n",
       "    <tr>\n",
       "      <th>2</th>\n",
       "      <td>84300903</td>\n",
       "      <td>M</td>\n",
       "      <td>19.69</td>\n",
       "      <td>21.25</td>\n",
       "      <td>130.00</td>\n",
       "      <td>1203.0</td>\n",
       "      <td>0.10960</td>\n",
       "      <td>0.15990</td>\n",
       "      <td>0.1974</td>\n",
       "      <td>0.12790</td>\n",
       "      <td>...</td>\n",
       "      <td>23.57</td>\n",
       "      <td>25.53</td>\n",
       "      <td>152.50</td>\n",
       "      <td>1709.0</td>\n",
       "      <td>0.1444</td>\n",
       "      <td>0.4245</td>\n",
       "      <td>0.4504</td>\n",
       "      <td>0.2430</td>\n",
       "      <td>0.3613</td>\n",
       "      <td>0.08758</td>\n",
       "    </tr>\n",
       "    <tr>\n",
       "      <th>3</th>\n",
       "      <td>84348301</td>\n",
       "      <td>M</td>\n",
       "      <td>11.42</td>\n",
       "      <td>20.38</td>\n",
       "      <td>77.58</td>\n",
       "      <td>386.1</td>\n",
       "      <td>0.14250</td>\n",
       "      <td>0.28390</td>\n",
       "      <td>0.2414</td>\n",
       "      <td>0.10520</td>\n",
       "      <td>...</td>\n",
       "      <td>14.91</td>\n",
       "      <td>26.50</td>\n",
       "      <td>98.87</td>\n",
       "      <td>567.7</td>\n",
       "      <td>0.2098</td>\n",
       "      <td>0.8663</td>\n",
       "      <td>0.6869</td>\n",
       "      <td>0.2575</td>\n",
       "      <td>0.6638</td>\n",
       "      <td>0.17300</td>\n",
       "    </tr>\n",
       "    <tr>\n",
       "      <th>4</th>\n",
       "      <td>84358402</td>\n",
       "      <td>M</td>\n",
       "      <td>20.29</td>\n",
       "      <td>14.34</td>\n",
       "      <td>135.10</td>\n",
       "      <td>1297.0</td>\n",
       "      <td>0.10030</td>\n",
       "      <td>0.13280</td>\n",
       "      <td>0.1980</td>\n",
       "      <td>0.10430</td>\n",
       "      <td>...</td>\n",
       "      <td>22.54</td>\n",
       "      <td>16.67</td>\n",
       "      <td>152.20</td>\n",
       "      <td>1575.0</td>\n",
       "      <td>0.1374</td>\n",
       "      <td>0.2050</td>\n",
       "      <td>0.4000</td>\n",
       "      <td>0.1625</td>\n",
       "      <td>0.2364</td>\n",
       "      <td>0.07678</td>\n",
       "    </tr>\n",
       "  </tbody>\n",
       "</table>\n",
       "<p>5 rows × 32 columns</p>\n",
       "</div>"
      ],
      "text/plain": [
       "         id diagnosis  radius_mean  texture_mean  perimeter_mean  area_mean  \\\n",
       "0    842302         M        17.99         10.38          122.80     1001.0   \n",
       "1    842517         M        20.57         17.77          132.90     1326.0   \n",
       "2  84300903         M        19.69         21.25          130.00     1203.0   \n",
       "3  84348301         M        11.42         20.38           77.58      386.1   \n",
       "4  84358402         M        20.29         14.34          135.10     1297.0   \n",
       "\n",
       "   smoothness_mean  compactness_mean  concavity_mean  concave points_mean  \\\n",
       "0          0.11840           0.27760          0.3001              0.14710   \n",
       "1          0.08474           0.07864          0.0869              0.07017   \n",
       "2          0.10960           0.15990          0.1974              0.12790   \n",
       "3          0.14250           0.28390          0.2414              0.10520   \n",
       "4          0.10030           0.13280          0.1980              0.10430   \n",
       "\n",
       "   ...  radius_worst  texture_worst  perimeter_worst  area_worst  \\\n",
       "0  ...         25.38          17.33           184.60      2019.0   \n",
       "1  ...         24.99          23.41           158.80      1956.0   \n",
       "2  ...         23.57          25.53           152.50      1709.0   \n",
       "3  ...         14.91          26.50            98.87       567.7   \n",
       "4  ...         22.54          16.67           152.20      1575.0   \n",
       "\n",
       "   smoothness_worst  compactness_worst  concavity_worst  concave points_worst  \\\n",
       "0            0.1622             0.6656           0.7119                0.2654   \n",
       "1            0.1238             0.1866           0.2416                0.1860   \n",
       "2            0.1444             0.4245           0.4504                0.2430   \n",
       "3            0.2098             0.8663           0.6869                0.2575   \n",
       "4            0.1374             0.2050           0.4000                0.1625   \n",
       "\n",
       "   symmetry_worst  fractal_dimension_worst  \n",
       "0          0.4601                  0.11890  \n",
       "1          0.2750                  0.08902  \n",
       "2          0.3613                  0.08758  \n",
       "3          0.6638                  0.17300  \n",
       "4          0.2364                  0.07678  \n",
       "\n",
       "[5 rows x 32 columns]"
      ]
     },
     "execution_count": 2,
     "metadata": {},
     "output_type": "execute_result"
    }
   ],
   "source": [
    "dp = pd.read_csv('C:\\\\Users\\\\MY PC\\\\OneDrive\\\\Desktop\\\\ML_Assignement\\\\ML_assign2\\\\ML_assign2\\\\Dsata_Set_for_Assignment 1.csv')\n",
    "dp.head()"
   ]
  },
  {
   "cell_type": "code",
   "execution_count": 3,
   "metadata": {},
   "outputs": [],
   "source": [
    "dp.drop(['id'] , axis=1 , inplace=True)"
   ]
  },
  {
   "cell_type": "code",
   "execution_count": 4,
   "metadata": {},
   "outputs": [
    {
     "data": {
      "text/html": [
       "<div>\n",
       "<style scoped>\n",
       "    .dataframe tbody tr th:only-of-type {\n",
       "        vertical-align: middle;\n",
       "    }\n",
       "\n",
       "    .dataframe tbody tr th {\n",
       "        vertical-align: top;\n",
       "    }\n",
       "\n",
       "    .dataframe thead th {\n",
       "        text-align: right;\n",
       "    }\n",
       "</style>\n",
       "<table border=\"1\" class=\"dataframe\">\n",
       "  <thead>\n",
       "    <tr style=\"text-align: right;\">\n",
       "      <th></th>\n",
       "      <th>diagnosis</th>\n",
       "      <th>radius_mean</th>\n",
       "      <th>texture_mean</th>\n",
       "      <th>perimeter_mean</th>\n",
       "      <th>area_mean</th>\n",
       "      <th>smoothness_mean</th>\n",
       "      <th>compactness_mean</th>\n",
       "      <th>concavity_mean</th>\n",
       "      <th>concave points_mean</th>\n",
       "      <th>symmetry_mean</th>\n",
       "      <th>...</th>\n",
       "      <th>radius_worst</th>\n",
       "      <th>texture_worst</th>\n",
       "      <th>perimeter_worst</th>\n",
       "      <th>area_worst</th>\n",
       "      <th>smoothness_worst</th>\n",
       "      <th>compactness_worst</th>\n",
       "      <th>concavity_worst</th>\n",
       "      <th>concave points_worst</th>\n",
       "      <th>symmetry_worst</th>\n",
       "      <th>fractal_dimension_worst</th>\n",
       "    </tr>\n",
       "  </thead>\n",
       "  <tbody>\n",
       "    <tr>\n",
       "      <th>0</th>\n",
       "      <td>M</td>\n",
       "      <td>17.99</td>\n",
       "      <td>10.38</td>\n",
       "      <td>122.80</td>\n",
       "      <td>1001.0</td>\n",
       "      <td>0.11840</td>\n",
       "      <td>0.27760</td>\n",
       "      <td>0.3001</td>\n",
       "      <td>0.14710</td>\n",
       "      <td>0.2419</td>\n",
       "      <td>...</td>\n",
       "      <td>25.38</td>\n",
       "      <td>17.33</td>\n",
       "      <td>184.60</td>\n",
       "      <td>2019.0</td>\n",
       "      <td>0.1622</td>\n",
       "      <td>0.6656</td>\n",
       "      <td>0.7119</td>\n",
       "      <td>0.2654</td>\n",
       "      <td>0.4601</td>\n",
       "      <td>0.11890</td>\n",
       "    </tr>\n",
       "    <tr>\n",
       "      <th>1</th>\n",
       "      <td>M</td>\n",
       "      <td>20.57</td>\n",
       "      <td>17.77</td>\n",
       "      <td>132.90</td>\n",
       "      <td>1326.0</td>\n",
       "      <td>0.08474</td>\n",
       "      <td>0.07864</td>\n",
       "      <td>0.0869</td>\n",
       "      <td>0.07017</td>\n",
       "      <td>0.1812</td>\n",
       "      <td>...</td>\n",
       "      <td>24.99</td>\n",
       "      <td>23.41</td>\n",
       "      <td>158.80</td>\n",
       "      <td>1956.0</td>\n",
       "      <td>0.1238</td>\n",
       "      <td>0.1866</td>\n",
       "      <td>0.2416</td>\n",
       "      <td>0.1860</td>\n",
       "      <td>0.2750</td>\n",
       "      <td>0.08902</td>\n",
       "    </tr>\n",
       "    <tr>\n",
       "      <th>2</th>\n",
       "      <td>M</td>\n",
       "      <td>19.69</td>\n",
       "      <td>21.25</td>\n",
       "      <td>130.00</td>\n",
       "      <td>1203.0</td>\n",
       "      <td>0.10960</td>\n",
       "      <td>0.15990</td>\n",
       "      <td>0.1974</td>\n",
       "      <td>0.12790</td>\n",
       "      <td>0.2069</td>\n",
       "      <td>...</td>\n",
       "      <td>23.57</td>\n",
       "      <td>25.53</td>\n",
       "      <td>152.50</td>\n",
       "      <td>1709.0</td>\n",
       "      <td>0.1444</td>\n",
       "      <td>0.4245</td>\n",
       "      <td>0.4504</td>\n",
       "      <td>0.2430</td>\n",
       "      <td>0.3613</td>\n",
       "      <td>0.08758</td>\n",
       "    </tr>\n",
       "    <tr>\n",
       "      <th>3</th>\n",
       "      <td>M</td>\n",
       "      <td>11.42</td>\n",
       "      <td>20.38</td>\n",
       "      <td>77.58</td>\n",
       "      <td>386.1</td>\n",
       "      <td>0.14250</td>\n",
       "      <td>0.28390</td>\n",
       "      <td>0.2414</td>\n",
       "      <td>0.10520</td>\n",
       "      <td>0.2597</td>\n",
       "      <td>...</td>\n",
       "      <td>14.91</td>\n",
       "      <td>26.50</td>\n",
       "      <td>98.87</td>\n",
       "      <td>567.7</td>\n",
       "      <td>0.2098</td>\n",
       "      <td>0.8663</td>\n",
       "      <td>0.6869</td>\n",
       "      <td>0.2575</td>\n",
       "      <td>0.6638</td>\n",
       "      <td>0.17300</td>\n",
       "    </tr>\n",
       "    <tr>\n",
       "      <th>4</th>\n",
       "      <td>M</td>\n",
       "      <td>20.29</td>\n",
       "      <td>14.34</td>\n",
       "      <td>135.10</td>\n",
       "      <td>1297.0</td>\n",
       "      <td>0.10030</td>\n",
       "      <td>0.13280</td>\n",
       "      <td>0.1980</td>\n",
       "      <td>0.10430</td>\n",
       "      <td>0.1809</td>\n",
       "      <td>...</td>\n",
       "      <td>22.54</td>\n",
       "      <td>16.67</td>\n",
       "      <td>152.20</td>\n",
       "      <td>1575.0</td>\n",
       "      <td>0.1374</td>\n",
       "      <td>0.2050</td>\n",
       "      <td>0.4000</td>\n",
       "      <td>0.1625</td>\n",
       "      <td>0.2364</td>\n",
       "      <td>0.07678</td>\n",
       "    </tr>\n",
       "  </tbody>\n",
       "</table>\n",
       "<p>5 rows × 31 columns</p>\n",
       "</div>"
      ],
      "text/plain": [
       "  diagnosis  radius_mean  texture_mean  perimeter_mean  area_mean  \\\n",
       "0         M        17.99         10.38          122.80     1001.0   \n",
       "1         M        20.57         17.77          132.90     1326.0   \n",
       "2         M        19.69         21.25          130.00     1203.0   \n",
       "3         M        11.42         20.38           77.58      386.1   \n",
       "4         M        20.29         14.34          135.10     1297.0   \n",
       "\n",
       "   smoothness_mean  compactness_mean  concavity_mean  concave points_mean  \\\n",
       "0          0.11840           0.27760          0.3001              0.14710   \n",
       "1          0.08474           0.07864          0.0869              0.07017   \n",
       "2          0.10960           0.15990          0.1974              0.12790   \n",
       "3          0.14250           0.28390          0.2414              0.10520   \n",
       "4          0.10030           0.13280          0.1980              0.10430   \n",
       "\n",
       "   symmetry_mean  ...  radius_worst  texture_worst  perimeter_worst  \\\n",
       "0         0.2419  ...         25.38          17.33           184.60   \n",
       "1         0.1812  ...         24.99          23.41           158.80   \n",
       "2         0.2069  ...         23.57          25.53           152.50   \n",
       "3         0.2597  ...         14.91          26.50            98.87   \n",
       "4         0.1809  ...         22.54          16.67           152.20   \n",
       "\n",
       "   area_worst  smoothness_worst  compactness_worst  concavity_worst  \\\n",
       "0      2019.0            0.1622             0.6656           0.7119   \n",
       "1      1956.0            0.1238             0.1866           0.2416   \n",
       "2      1709.0            0.1444             0.4245           0.4504   \n",
       "3       567.7            0.2098             0.8663           0.6869   \n",
       "4      1575.0            0.1374             0.2050           0.4000   \n",
       "\n",
       "   concave points_worst  symmetry_worst  fractal_dimension_worst  \n",
       "0                0.2654          0.4601                  0.11890  \n",
       "1                0.1860          0.2750                  0.08902  \n",
       "2                0.2430          0.3613                  0.08758  \n",
       "3                0.2575          0.6638                  0.17300  \n",
       "4                0.1625          0.2364                  0.07678  \n",
       "\n",
       "[5 rows x 31 columns]"
      ]
     },
     "execution_count": 4,
     "metadata": {},
     "output_type": "execute_result"
    }
   ],
   "source": [
    "dp.head()"
   ]
  },
  {
   "cell_type": "code",
   "execution_count": 5,
   "metadata": {},
   "outputs": [
    {
     "data": {
      "text/plain": [
       "0    1\n",
       "1    1\n",
       "2    1\n",
       "3    1\n",
       "4    1\n",
       "Name: diagnosis, dtype: int64"
      ]
     },
     "execution_count": 5,
     "metadata": {},
     "output_type": "execute_result"
    }
   ],
   "source": [
    "Y = dp['diagnosis']\n",
    "X = dp.drop(['diagnosis'] , axis=1)\n",
    "Y = Y.replace({'M':1 , 'B':0})\n",
    "Y.head()\n",
    "# x_train , x_test , y_train , y_test = train_test_split(X , Y , test_size=0.33, random_state=random1,shuffle=True)"
   ]
  },
  {
   "cell_type": "code",
   "execution_count": 6,
   "metadata": {},
   "outputs": [],
   "source": [
    "# replace the missing values with the mean of the column\n",
    "X = X.replace('?',np.nan)\n",
    "X = X.apply(lambda x: x.fillna(x.mean()),axis=0)\n",
    "# print(X.isnull().sum())"
   ]
  },
  {
   "cell_type": "code",
   "execution_count": 7,
   "metadata": {},
   "outputs": [],
   "source": [
    "# normalise the data\n",
    "X = (X - X.mean()) / X.std()\n",
    "x_train=X.iloc[:, 2:].values\n",
    "x_test=X.iloc[:, 2:].values\n",
    "y_train=Y.iloc[:, 1].values\n",
    "y_test=Y.iloc[:, 1].values"
   ]
  },
  {
   "cell_type": "code",
   "execution_count": 9,
   "metadata": {},
   "outputs": [
    {
     "data": {
      "text/plain": [
       "radius_mean               -0.583080\n",
       "texture_mean              -0.305268\n",
       "perimeter_mean            -0.589274\n",
       "area_mean                 -0.563543\n",
       "smoothness_mean           -0.250856\n",
       "compactness_mean          -0.435080\n",
       "concavity_mean            -0.527165\n",
       "concave points_mean       -0.600071\n",
       "symmetry_mean             -0.218466\n",
       "fractal_dimension_mean     0.035537\n",
       "radius_se                 -0.440980\n",
       "texture_se                 0.030671\n",
       "perimeter_se              -0.424612\n",
       "area_se                   -0.425448\n",
       "smoothness_se              0.057053\n",
       "compactness_se            -0.171465\n",
       "concavity_se              -0.168225\n",
       "concave points_se         -0.299314\n",
       "symmetry_se                0.070544\n",
       "fractal_dimension_se      -0.041581\n",
       "radius_worst              -0.614285\n",
       "texture_worst             -0.329997\n",
       "perimeter_worst           -0.615885\n",
       "area_worst                -0.576561\n",
       "smoothness_worst          -0.307496\n",
       "compactness_worst         -0.426882\n",
       "concavity_worst           -0.485021\n",
       "concave points_worst      -0.606660\n",
       "symmetry_worst            -0.279393\n",
       "fractal_dimension_worst   -0.210972\n",
       "dtype: float64"
      ]
     },
     "execution_count": 9,
     "metadata": {},
     "output_type": "execute_result"
    }
   ],
   "source": [
    "\n",
    "class_feature_mean1 = x_train[y_train == 1].mean()\n",
    "class_feature_mean0 = x_train[y_train == 0].mean()\n",
    "class_feature_mean1\n",
    "class_feature_mean0"
   ]
  },
  {
   "cell_type": "code",
   "execution_count": 10,
   "metadata": {},
   "outputs": [],
   "source": [
    "Sw = np.zeros((30,30))\n",
    "A = np.dot((x_train[y_train == 1] - class_feature_mean1).T , (x_train[y_train == 1] - class_feature_mean1))\n",
    "B = np.dot((x_train[y_train == 0] - class_feature_mean0).T , (x_train[y_train == 0] - class_feature_mean0))\n",
    "Sw = A + B"
   ]
  },
  {
   "cell_type": "code",
   "execution_count": 11,
   "metadata": {},
   "outputs": [],
   "source": [
    "Sw_inv = np.linalg.inv(Sw)\n",
    "w = np.dot(Sw_inv , (class_feature_mean1 - class_feature_mean0))"
   ]
  },
  {
   "cell_type": "code",
   "execution_count": 12,
   "metadata": {},
   "outputs": [],
   "source": [
    "wTr = w.T\n",
    "x_train_proj = np.dot(x_train , wTr)\n",
    "projection_mean1 = x_train_proj[y_train == 1].mean()\n",
    "projection_mean0 = x_train_proj[y_train == 0].mean()\n"
   ]
  },
  {
   "cell_type": "code",
   "execution_count": 13,
   "metadata": {},
   "outputs": [
    {
     "name": "stdout",
     "output_type": "stream",
     "text": [
      "-0.014390333415930445\n",
      "0.0238422718051642\n"
     ]
    }
   ],
   "source": [
    "print(projection_mean0)\n",
    "print(projection_mean1)"
   ]
  },
  {
   "cell_type": "code",
   "execution_count": 14,
   "metadata": {},
   "outputs": [],
   "source": [
    "\n",
    "projection_std1 = x_train_proj[y_train == 1].std()\n",
    "projection_std0 = x_train_proj[y_train == 0].std()\n"
   ]
  },
  {
   "cell_type": "code",
   "execution_count": 15,
   "metadata": {},
   "outputs": [
    {
     "data": {
      "image/png": "[encoded data removed]",
      "text/plain": [
       "<Figure size 640x480 with 1 Axes>"
      ]
     },
     "metadata": {},
     "output_type": "display_data"
    }
   ],
   "source": [
    "x = np.linspace(x_train_proj.min() , x_train_proj.max() , 1000)\n",
    "alpha = np.sort(x_train_proj[y_train == 1])\n",
    "beta = np.sort(x_train_proj[y_train == 0])\n",
    "plt.plot(alpha, norm.pdf(alpha, projection_mean1, projection_std1), color='red')\n",
    "plt.plot(beta, norm.pdf(beta, projection_mean0, projection_std0), color='blue')\n",
    "# save the figure\n",
    "plt.savefig(str(random1) + 'first.png')"
   ]
  },
  {
   "cell_type": "code",
   "execution_count": 16,
   "metadata": {},
   "outputs": [
    {
     "name": "stdout",
     "output_type": "stream",
     "text": [
      "[-0.0882  0.0019]\n",
      "[0.0018550773690029117]\n"
     ]
    }
   ],
   "source": [
    "def solve(mean1,mean0,std1,std0):\n",
    "    a = 1/(2*std1**2) - 1/(2*std0**2)\n",
    "    b = mean0/(std0**2) - mean1/(std1**2)\n",
    "    c = mean1**2/(2*std1**2) - mean0**2/(2*std0**2) - math.log((std0/std1))\n",
    "    return np.roots([a,b,c])\n",
    "result = solve(projection_mean1,projection_mean0,projection_std1,projection_std0)\n",
    "print(result)\n",
    "res = []\n",
    "for i in range(len(result)):\n",
    "    if result[i] > x_train_proj.min() and result[i] < x_train_proj.max():\n",
    "        res.append(result[i])\n",
    "print(res)\n"
   ]
  },
  {
   "cell_type": "code",
   "execution_count": 17,
   "metadata": {},
   "outputs": [
    {
     "data": {
      "image/png": "[encoded data removed]",
      "text/plain": [
       "<Figure size 640x480 with 1 Axes>"
      ]
     },
     "metadata": {},
     "output_type": "display_data"
    }
   ],
   "source": [
    "plt.plot(alpha, norm.pdf(alpha, projection_mean1, projection_std1), color='red')\n",
    "plt.plot(beta, norm.pdf(beta, projection_mean0, projection_std0), color='blue')\n",
    "plt.axvline(x=res[0], color='green', linestyle='--')\n",
    "plt.plot(res, norm.pdf(res, projection_mean1, projection_std1), color='green')\n",
    "# save the figure\n",
    "plt.savefig(str(random1) + 'firstWithLine.png')"
   ]
  },
  {
   "cell_type": "code",
   "execution_count": 18,
   "metadata": {},
   "outputs": [],
   "source": [
    "def predict(x_test):\n",
    "    x_res = []\n",
    "    for i in range(len(x_test)):\n",
    "        x_res.append(np.dot(x_test.iloc[i] , wTr))\n",
    "    \n",
    "    y_pred = []\n",
    "    for i in range(len(x_res)):\n",
    "        if x_res[i] > res[0]:\n",
    "            y_pred.append(1)\n",
    "        else:\n",
    "            y_pred.append(0)\n",
    "    return y_pred\n",
    "# accuracy\n",
    "def accuracy(x_test , y_test):\n",
    "    y_pred = predict(x_test)\n",
    "    return np.sum(y_pred == y_test)/len(y_test)\n"
   ]
  },
  {
   "cell_type": "code",
   "execution_count": 19,
   "metadata": {},
   "outputs": [
    {
     "name": "stdout",
     "output_type": "stream",
     "text": [
      "precision =  0.9545454545454546\n",
      "recall =  0.984375\n",
      "f1 score =  0.9692307692307692\n",
      "accuracy =  0.9787234042553191\n"
     ]
    }
   ],
   "source": [
    "# calculate the precision and recall\n",
    "# write the results in a file\n",
    "f = open(str(random1) + 'result1.txt', 'w')\n",
    "y_pred = predict(x_test)\n",
    "\n",
    "def precision_recall(y_test):\n",
    "    prec = []\n",
    "    y_test = list(y_test)\n",
    "    for i in range(len(y_pred)):\n",
    "        if y_pred[i] == 1 and y_test[i] == 1:\n",
    "            prec.append(1)\n",
    "        elif y_test[i] == 1 and y_pred[i] == 0:\n",
    "            prec.append(0)\n",
    "    f.write('precision = ' + str(np.sum(prec)/len(prec)) + '\\n')\n",
    "    print('precision = ' , np.sum(prec)/len(prec))\n",
    "\n",
    "    rec = []\n",
    "    for i in range(len(y_pred)):\n",
    "        if y_pred[i] == 1 and y_test[i] == 1:\n",
    "            rec.append(1)\n",
    "        elif y_pred[i] == 1 and y_test[i] == 0:\n",
    "            rec.append(0)\n",
    "    print(f'recall = ' , np.sum(rec)/len(rec))\n",
    "    f.write('recall = ' + str(np.sum(rec)/len(rec)) + '\\n')\n",
    "    alpha = np.sum(prec)/len(prec)\n",
    "    beta = np.sum(rec)/len(rec)\n",
    "    f.write('f1 score = ' + str(2*alpha*beta/(alpha+beta)) + '\\n')\n",
    "    print('f1 score = ' , 2*alpha*beta/(alpha+beta))\n",
    "    \n",
    "\n",
    "precision_recall(y_test)\n",
    "f.write('accuracy = ' + str(accuracy(x_test , y_test)) + '\\n')\n",
    "print('accuracy = ' ,accuracy(x_test , y_test))\n",
    "\n",
    "        \n",
    "    \n",
    "    "
   ]
  },
  {
   "attachments": {},
   "cell_type": "markdown",
   "metadata": {},
   "source": [
    "Learning Task 2"
   ]
  },
  {
   "cell_type": "code",
   "execution_count": 20,
   "metadata": {},
   "outputs": [],
   "source": [
    "# x_train , x_test , y_train , y_test = train_test_split(X , Y , test_size=0.33, random_state=random1,shuffle=True) \n",
    "# shuffle the columns fo x_train and x_test keeping the same order\n",
    "x_train = x_train.reindex(sorted(x_train.columns), axis=1)\n",
    "x_test = x_test.reindex(sorted(x_test.columns), axis=1)\n"
   ]
  },
  {
   "cell_type": "code",
   "execution_count": 21,
   "metadata": {},
   "outputs": [
    {
     "data": {
      "text/plain": [
       "area_mean                 -0.563543\n",
       "area_se                   -0.425448\n",
       "area_worst                -0.576561\n",
       "compactness_mean          -0.435080\n",
       "compactness_se            -0.171465\n",
       "compactness_worst         -0.426882\n",
       "concave points_mean       -0.600071\n",
       "concave points_se         -0.299314\n",
       "concave points_worst      -0.606660\n",
       "concavity_mean            -0.527165\n",
       "concavity_se              -0.168225\n",
       "concavity_worst           -0.485021\n",
       "fractal_dimension_mean     0.035537\n",
       "fractal_dimension_se      -0.041581\n",
       "fractal_dimension_worst   -0.210972\n",
       "perimeter_mean            -0.589274\n",
       "perimeter_se              -0.424612\n",
       "perimeter_worst           -0.615885\n",
       "radius_mean               -0.583080\n",
       "radius_se                 -0.440980\n",
       "radius_worst              -0.614285\n",
       "smoothness_mean           -0.250856\n",
       "smoothness_se              0.057053\n",
       "smoothness_worst          -0.307496\n",
       "symmetry_mean             -0.218466\n",
       "symmetry_se                0.070544\n",
       "symmetry_worst            -0.279393\n",
       "texture_mean              -0.305268\n",
       "texture_se                 0.030671\n",
       "texture_worst             -0.329997\n",
       "dtype: float64"
      ]
     },
     "execution_count": 21,
     "metadata": {},
     "output_type": "execute_result"
    }
   ],
   "source": [
    "class_feature_mean1 = x_train[y_train == 1].mean()\n",
    "class_feature_mean0 = x_train[y_train == 0].mean()\n",
    "class_feature_mean1\n",
    "class_feature_mean0"
   ]
  },
  {
   "cell_type": "code",
   "execution_count": 22,
   "metadata": {},
   "outputs": [],
   "source": [
    "Sw = np.zeros((30,30))\n",
    "A = np.dot((x_train[y_train == 1] - class_feature_mean1).T , (x_train[y_train == 1] - class_feature_mean1))\n",
    "B = np.dot((x_train[y_train == 0] - class_feature_mean0).T , (x_train[y_train == 0] - class_feature_mean0))\n",
    "Sw = A + B"
   ]
  },
  {
   "cell_type": "code",
   "execution_count": 23,
   "metadata": {},
   "outputs": [],
   "source": [
    "Sw_inv = np.linalg.inv(Sw)\n",
    "w = np.dot(Sw_inv , (class_feature_mean1 - class_feature_mean0))"
   ]
  },
  {
   "cell_type": "code",
   "execution_count": 24,
   "metadata": {},
   "outputs": [],
   "source": [
    "wTr = w.T\n",
    "x_train_proj = np.dot(x_train , wTr)\n",
    "projection_mean1 = x_train_proj[y_train == 1].mean()\n",
    "projection_mean0 = x_train_proj[y_train == 0].mean()\n"
   ]
  },
  {
   "cell_type": "code",
   "execution_count": 25,
   "metadata": {},
   "outputs": [
    {
     "name": "stdout",
     "output_type": "stream",
     "text": [
      "-0.01439033341593114\n",
      "0.023842271805165415\n"
     ]
    }
   ],
   "source": [
    "print(projection_mean0)\n",
    "print(projection_mean1)"
   ]
  },
  {
   "cell_type": "code",
   "execution_count": 26,
   "metadata": {},
   "outputs": [],
   "source": [
    "\n",
    "projection_std1 = x_train_proj[y_train == 1].std()\n",
    "projection_std0 = x_train_proj[y_train == 0].std()\n"
   ]
  },
  {
   "cell_type": "code",
   "execution_count": 27,
   "metadata": {},
   "outputs": [
    {
     "data": {
      "image/png": "[encoded data removed]",
      "text/plain": [
       "<Figure size 640x480 with 1 Axes>"
      ]
     },
     "metadata": {},
     "output_type": "display_data"
    }
   ],
   "source": [
    "x = np.linspace(x_train_proj.min() , x_train_proj.max() , 1000)\n",
    "alpha = np.sort(x_train_proj[y_train == 1])\n",
    "beta = np.sort(x_train_proj[y_train == 0])\n",
    "plt.plot(alpha, norm.pdf(alpha, projection_mean1, projection_std1), color='red')\n",
    "plt.plot(beta, norm.pdf(beta, projection_mean0, projection_std0), color='blue')\n",
    "# save the figure with the random number\n",
    "plt.savefig(str(random1) + 'second.png')"
   ]
  },
  {
   "cell_type": "code",
   "execution_count": 28,
   "metadata": {},
   "outputs": [
    {
     "name": "stdout",
     "output_type": "stream",
     "text": [
      "[-0.0882  0.0019]\n",
      "[0.0018550773690027542]\n"
     ]
    }
   ],
   "source": [
    "def solve(mean1,mean0,std1,std0):\n",
    "    a = 1/(2*std1**2) - 1/(2*std0**2)\n",
    "    b = mean0/(std0**2) - mean1/(std1**2)\n",
    "    c = mean1**2/(2*std1**2) - mean0**2/(2*std0**2) - math.log((std0/std1))\n",
    "    return np.roots([a,b,c])\n",
    "result = solve(projection_mean1,projection_mean0,projection_std1,projection_std0)\n",
    "print(result)\n",
    "res = []\n",
    "for i in range(len(result)):\n",
    "    if result[i] > x_train_proj.min() and result[i] < x_train_proj.max():\n",
    "        res.append(result[i])\n",
    "print(res)\n"
   ]
  },
  {
   "cell_type": "code",
   "execution_count": 29,
   "metadata": {},
   "outputs": [
    {
     "data": {
      "image/png": "[encoded data removed]",
      "text/plain": [
       "<Figure size 640x480 with 1 Axes>"
      ]
     },
     "metadata": {},
     "output_type": "display_data"
    }
   ],
   "source": [
    "plt.plot(alpha, norm.pdf(alpha, projection_mean1, projection_std1), color='red')\n",
    "plt.plot(beta, norm.pdf(beta, projection_mean0, projection_std0), color='blue')\n",
    "plt.axvline(x=res[0], color='green', linestyle='--')\n",
    "plt.plot(res, norm.pdf(res, projection_mean1, projection_std1), color='green')\n",
    "# save the figure with the random number\n",
    "plt.savefig(str(random1) + 'secondWithLine.png')"
   ]
  },
  {
   "cell_type": "code",
   "execution_count": 30,
   "metadata": {},
   "outputs": [],
   "source": [
    "def predict(x_test):\n",
    "    x_res = []\n",
    "    for i in range(len(x_test)):\n",
    "        x_res.append(np.dot(x_test.iloc[i] , wTr))\n",
    "    \n",
    "    y_pred = []\n",
    "    for i in range(len(x_res)):\n",
    "        if x_res[i] > res[0]:\n",
    "            y_pred.append(1)\n",
    "        else:\n",
    "            y_pred.append(0)\n",
    "    return y_pred\n",
    "# accuracy\n",
    "def accuracy(x_test , y_test):\n",
    "    y_pred = predict(x_test)\n",
    "    return np.sum(y_pred == y_test)/len(y_test)\n"
   ]
  },
  {
   "cell_type": "code",
   "execution_count": 31,
   "metadata": {},
   "outputs": [
    {
     "name": "stdout",
     "output_type": "stream",
     "text": [
      "precision =  0.9545454545454546\n",
      "recall =  0.984375\n",
      "f1 score =  0.9692307692307692\n",
      "accuracy =  0.9787234042553191\n"
     ]
    }
   ],
   "source": [
    "# calculate the precision and recall\n",
    "# write the results to the file\n",
    "f = open(str(random1) + 'result2.txt', 'w')\n",
    "y_pred = predict(x_test)\n",
    "\n",
    "def precision_recall(y_test):\n",
    "    prec = []\n",
    "    y_test = list(y_test)\n",
    "    for i in range(len(y_pred)):\n",
    "        if y_pred[i] == 1 and y_test[i] == 1:\n",
    "            prec.append(1)\n",
    "        elif y_test[i] == 1 and y_pred[i] == 0:\n",
    "            prec.append(0)\n",
    "    f.write('precision = ' + str(np.sum(prec)/len(prec)) + '\\n')\n",
    "    print('precision = ' , np.sum(prec)/len(prec))\n",
    "\n",
    "    rec = []\n",
    "    for i in range(len(y_pred)):\n",
    "        if y_pred[i] == 1 and y_test[i] == 1:\n",
    "            rec.append(1)\n",
    "        elif y_pred[i] == 1 and y_test[i] == 0:\n",
    "            rec.append(0)\n",
    "    print(f'recall = ' , np.sum(rec)/len(rec))\n",
    "    f.write('recall = ' + str(np.sum(rec)/len(rec)) + '\\n')\n",
    "    alpha = np.sum(prec)/len(prec)\n",
    "    beta = np.sum(rec)/len(rec)\n",
    "    print('f1 score = ' , 2*alpha*beta/(alpha+beta))\n",
    "    f.write('f1 score = ' + str(2*alpha*beta/(alpha+beta)) + '\\n')\n",
    "    \n",
    "\n",
    "precision_recall(y_test)\n",
    "print('accuracy = ' ,accuracy(x_test , y_test))\n",
    "f.write('accuracy = ' + str(accuracy(x_test , y_test)) + '\\n')\n",
    "f.close()\n",
    "\n",
    "        \n",
    "    \n",
    "    "
   ]
  }
 ],
 "metadata": {
  "kernelspec": {
   "display_name": "Python 3",
   "language": "python",
   "name": "python3"
  },
  "language_info": {
   "codemirror_mode": {
    "name": "ipython",
    "version": 3
   },
   "file_extension": ".py",
   "mimetype": "text/x-python",
   "name": "python",
   "nbconvert_exporter": "python",
   "pygments_lexer": "ipython3",
   "version": "3.11.1"
  },
  "orig_nbformat": 4
 },
 "nbformat": 4,
 "nbformat_minor": 2
}
